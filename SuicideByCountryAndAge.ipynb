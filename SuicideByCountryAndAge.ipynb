{
    "cells": [
        {
            "metadata": {},
            "cell_type": "markdown",
            "source": "# Description \nSuicide rate by age, country, and year"
        },
        {
            "metadata": {},
            "cell_type": "code",
            "source": "\nimport os, types\nimport pandas as pd\nfrom botocore.client import Config\nimport ibm_boto3\n\ndef __iter__(self): return 0\n\n# @hidden_cell\n# The following code accesses a file in your IBM Cloud Object Storage. It includes your credentials.\n# You might want to remove those credentials before you share the notebook.\nclient_790a1947ae1941cc87fbca1e59d6b52b = ibm_boto3.client(service_name='s3',\n    ibm_api_key_id='EANkapQGnxoe1Po8oVTZlVA928W9yR_OLIvC09dvYkCE',\n    ibm_auth_endpoint=\"https://iam.cloud.ibm.com/oidc/token\",\n    config=Config(signature_version='oauth'),\n    endpoint_url='https://s3.private.us.cloud-object-storage.appdomain.cloud')\n\nbody = client_790a1947ae1941cc87fbca1e59d6b52b.get_object(Bucket='markmeschieducationproject2-donotdelete-pr-xdtn5y6cxl4tva',Key='Age-standardized suicide rates.csv')['Body']\n# add missing __iter__ method, so pandas accepts body as file-like object\nif not hasattr(body, \"__iter__\"): body.__iter__ = types.MethodType( __iter__, body )\n\ndf_data_1 = pd.read_csv(body)\ndf_data_1.head()\n",
            "execution_count": 1,
            "outputs": [
                {
                    "output_type": "execute_result",
                    "execution_count": 1,
                    "data": {
                        "text/plain": "       Country          Sex  2016  2015  2010  2000\n0  Afghanistan   Both sexes   6.4   6.6   7.4   8.1\n1  Afghanistan         Male  10.6  10.9  12.5  14.3\n2  Afghanistan       Female   2.1   2.1   2.1   1.7\n3      Albania   Both sexes   5.6   5.3   7.7   5.8\n4      Albania         Male   7.0   6.7   9.5   8.2",
                        "text/html": "<div>\n<style scoped>\n    .dataframe tbody tr th:only-of-type {\n        vertical-align: middle;\n    }\n\n    .dataframe tbody tr th {\n        vertical-align: top;\n    }\n\n    .dataframe thead th {\n        text-align: right;\n    }\n</style>\n<table border=\"1\" class=\"dataframe\">\n  <thead>\n    <tr style=\"text-align: right;\">\n      <th></th>\n      <th>Country</th>\n      <th>Sex</th>\n      <th>2016</th>\n      <th>2015</th>\n      <th>2010</th>\n      <th>2000</th>\n    </tr>\n  </thead>\n  <tbody>\n    <tr>\n      <th>0</th>\n      <td>Afghanistan</td>\n      <td>Both sexes</td>\n      <td>6.4</td>\n      <td>6.6</td>\n      <td>7.4</td>\n      <td>8.1</td>\n    </tr>\n    <tr>\n      <th>1</th>\n      <td>Afghanistan</td>\n      <td>Male</td>\n      <td>10.6</td>\n      <td>10.9</td>\n      <td>12.5</td>\n      <td>14.3</td>\n    </tr>\n    <tr>\n      <th>2</th>\n      <td>Afghanistan</td>\n      <td>Female</td>\n      <td>2.1</td>\n      <td>2.1</td>\n      <td>2.1</td>\n      <td>1.7</td>\n    </tr>\n    <tr>\n      <th>3</th>\n      <td>Albania</td>\n      <td>Both sexes</td>\n      <td>5.6</td>\n      <td>5.3</td>\n      <td>7.7</td>\n      <td>5.8</td>\n    </tr>\n    <tr>\n      <th>4</th>\n      <td>Albania</td>\n      <td>Male</td>\n      <td>7.0</td>\n      <td>6.7</td>\n      <td>9.5</td>\n      <td>8.2</td>\n    </tr>\n  </tbody>\n</table>\n</div>"
                    },
                    "metadata": {}
                }
            ]
        }
    ],
    "metadata": {
        "kernelspec": {
            "name": "python3",
            "display_name": "Python 3.8",
            "language": "python"
        },
        "language_info": {
            "name": "python",
            "version": "3.8.12",
            "mimetype": "text/x-python",
            "codemirror_mode": {
                "name": "ipython",
                "version": 3
            },
            "pygments_lexer": "ipython3",
            "nbconvert_exporter": "python",
            "file_extension": ".py"
        }
    },
    "nbformat": 4,
    "nbformat_minor": 1
}